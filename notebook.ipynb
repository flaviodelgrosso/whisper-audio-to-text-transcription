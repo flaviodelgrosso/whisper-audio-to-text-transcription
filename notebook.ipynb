{
  "nbformat": 4,
  "nbformat_minor": 0,
  "metadata": {
    "colab": {
      "provenance": [],
      "gpuType": "T4",
      "authorship_tag": "ABX9TyNgmaGP1g3KfMDLDGVxKTrN",
      "include_colab_link": true
    },
    "kernelspec": {
      "name": "python3",
      "display_name": "Python 3"
    },
    "language_info": {
      "name": "python"
    },
    "accelerator": "GPU"
  },
  "cells": [
    {
      "cell_type": "markdown",
      "metadata": {
        "id": "view-in-github",
        "colab_type": "text"
      },
      "source": [
        "<a href=\"https://colab.research.google.com/github/flaviodelgrosso/whisper-transcriber/blob/master/notebook.ipynb\" target=\"_parent\"><img src=\"https://colab.research.google.com/assets/colab-badge.svg\" alt=\"Open In Colab\"/></a>"
      ]
    },
    {
      "cell_type": "code",
      "source": [
        "from google.colab import drive\n",
        "drive.mount('/content/drive')"
      ],
      "metadata": {
        "id": "z42ca5VvAwvi"
      },
      "execution_count": null,
      "outputs": []
    },
    {
      "cell_type": "code",
      "execution_count": null,
      "metadata": {
        "id": "TQSVMcb691jg"
      },
      "outputs": [],
      "source": [
        "!git clone https://github.com/flaviodelgrosso/whisper-transcriber\n",
        "%cd whisper-transcriber\n",
        "!pip install -r requirements.txt"
      ]
    },
    {
      "cell_type": "code",
      "source": [
        "!cp /content/drive/MyDrive/audio1.mkv /content/whisper-transcriber/audio/"
      ],
      "metadata": {
        "id": "Vr-gfBr1BG98"
      },
      "execution_count": 3,
      "outputs": []
    },
    {
      "cell_type": "code",
      "source": [
        "!echo 'HF_AUTH_TOKEN=\"YOUR_HUGGING_FACE_AUTH_TOKEN\"' >> /content/whisper-transcriber/.env # this is optional and needed for diarization"
      ],
      "metadata": {
        "id": "pOua5KW6DQBX"
      },
      "execution_count": 9,
      "outputs": []
    },
    {
      "cell_type": "code",
      "source": [
        "!python app.py"
      ],
      "metadata": {
        "id": "1eoI5T1MBGKW"
      },
      "execution_count": null,
      "outputs": []
    }
  ]
}
